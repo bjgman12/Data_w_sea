{
  "nbformat": 4,
  "nbformat_minor": 0,
  "metadata": {
    "colab": {
      "name": "twitch.ipynb",
      "provenance": [],
      "authorship_tag": "ABX9TyMdceMiIDdWEn6uLwWkljUS",
      "include_colab_link": true
    },
    "kernelspec": {
      "name": "python3",
      "display_name": "Python 3"
    }
  },
  "cells": [
    {
      "cell_type": "markdown",
      "metadata": {
        "id": "view-in-github",
        "colab_type": "text"
      },
      "source": [
        "<a href=\"https://colab.research.google.com/github/bjgman12/Data_w_sea/blob/main/twitch.ipynb\" target=\"_parent\"><img src=\"https://colab.research.google.com/assets/colab-badge.svg\" alt=\"Open In Colab\"/></a>"
      ]
    },
    {
      "cell_type": "code",
      "metadata": {
        "colab": {
          "base_uri": "https://localhost:8080/"
        },
        "id": "9-2KER6eBJqD",
        "outputId": "660db9bf-6f14-4fa2-e300-0a9f04f2703b"
      },
      "source": [
        "from google.colab import drive\r\n",
        "drive.mount('/content/drive')\r\n",
        "drive.mount( '/content/drive', force_remount=True)"
      ],
      "execution_count": 3,
      "outputs": [
        {
          "output_type": "stream",
          "text": [
            "Drive already mounted at /content/drive; to attempt to forcibly remount, call drive.mount(\"/content/drive\", force_remount=True).\n",
            "Mounted at /content/drive\n"
          ],
          "name": "stdout"
        }
      ]
    },
    {
      "cell_type": "code",
      "metadata": {
        "id": "79M1LwcZB47G"
      },
      "source": [
        "import pandas as pd\r\n",
        "import matplotlib.pyplot as plt\r\n",
        "from datetime import datetime as dt\r\n",
        "from sklearn.linear_model import LinearRegression\r\n",
        "from sklearn.model_selection import train_test_split\r\n",
        "import seaborn as sns"
      ],
      "execution_count": 10,
      "outputs": []
    },
    {
      "cell_type": "code",
      "metadata": {
        "colab": {
          "base_uri": "https://localhost:8080/",
          "height": 239
        },
        "id": "8p5hy2P_CG9C",
        "outputId": "14fa452b-cb98-4478-aac5-86ebceb99ea1"
      },
      "source": [
        "twitch_data = pd.read_csv('twitchdata-update.csv')\r\n",
        "twitch_data.head()"
      ],
      "execution_count": 7,
      "outputs": [
        {
          "output_type": "execute_result",
          "data": {
            "text/html": [
              "<div>\n",
              "<style scoped>\n",
              "    .dataframe tbody tr th:only-of-type {\n",
              "        vertical-align: middle;\n",
              "    }\n",
              "\n",
              "    .dataframe tbody tr th {\n",
              "        vertical-align: top;\n",
              "    }\n",
              "\n",
              "    .dataframe thead th {\n",
              "        text-align: right;\n",
              "    }\n",
              "</style>\n",
              "<table border=\"1\" class=\"dataframe\">\n",
              "  <thead>\n",
              "    <tr style=\"text-align: right;\">\n",
              "      <th></th>\n",
              "      <th>Channel</th>\n",
              "      <th>Watch time(Minutes)</th>\n",
              "      <th>Stream time(minutes)</th>\n",
              "      <th>Peak viewers</th>\n",
              "      <th>Average viewers</th>\n",
              "      <th>Followers</th>\n",
              "      <th>Followers gained</th>\n",
              "      <th>Views gained</th>\n",
              "      <th>Partnered</th>\n",
              "      <th>Mature</th>\n",
              "      <th>Language</th>\n",
              "    </tr>\n",
              "  </thead>\n",
              "  <tbody>\n",
              "    <tr>\n",
              "      <th>0</th>\n",
              "      <td>xQcOW</td>\n",
              "      <td>6196161750</td>\n",
              "      <td>215250</td>\n",
              "      <td>222720</td>\n",
              "      <td>27716</td>\n",
              "      <td>3246298</td>\n",
              "      <td>1734810</td>\n",
              "      <td>93036735</td>\n",
              "      <td>True</td>\n",
              "      <td>False</td>\n",
              "      <td>English</td>\n",
              "    </tr>\n",
              "    <tr>\n",
              "      <th>1</th>\n",
              "      <td>summit1g</td>\n",
              "      <td>6091677300</td>\n",
              "      <td>211845</td>\n",
              "      <td>310998</td>\n",
              "      <td>25610</td>\n",
              "      <td>5310163</td>\n",
              "      <td>1370184</td>\n",
              "      <td>89705964</td>\n",
              "      <td>True</td>\n",
              "      <td>False</td>\n",
              "      <td>English</td>\n",
              "    </tr>\n",
              "    <tr>\n",
              "      <th>2</th>\n",
              "      <td>Gaules</td>\n",
              "      <td>5644590915</td>\n",
              "      <td>515280</td>\n",
              "      <td>387315</td>\n",
              "      <td>10976</td>\n",
              "      <td>1767635</td>\n",
              "      <td>1023779</td>\n",
              "      <td>102611607</td>\n",
              "      <td>True</td>\n",
              "      <td>True</td>\n",
              "      <td>Portuguese</td>\n",
              "    </tr>\n",
              "    <tr>\n",
              "      <th>3</th>\n",
              "      <td>ESL_CSGO</td>\n",
              "      <td>3970318140</td>\n",
              "      <td>517740</td>\n",
              "      <td>300575</td>\n",
              "      <td>7714</td>\n",
              "      <td>3944850</td>\n",
              "      <td>703986</td>\n",
              "      <td>106546942</td>\n",
              "      <td>True</td>\n",
              "      <td>False</td>\n",
              "      <td>English</td>\n",
              "    </tr>\n",
              "    <tr>\n",
              "      <th>4</th>\n",
              "      <td>Tfue</td>\n",
              "      <td>3671000070</td>\n",
              "      <td>123660</td>\n",
              "      <td>285644</td>\n",
              "      <td>29602</td>\n",
              "      <td>8938903</td>\n",
              "      <td>2068424</td>\n",
              "      <td>78998587</td>\n",
              "      <td>True</td>\n",
              "      <td>False</td>\n",
              "      <td>English</td>\n",
              "    </tr>\n",
              "  </tbody>\n",
              "</table>\n",
              "</div>"
            ],
            "text/plain": [
              "    Channel  Watch time(Minutes)  ...  Mature    Language\n",
              "0     xQcOW           6196161750  ...   False     English\n",
              "1  summit1g           6091677300  ...   False     English\n",
              "2    Gaules           5644590915  ...    True  Portuguese\n",
              "3  ESL_CSGO           3970318140  ...   False     English\n",
              "4      Tfue           3671000070  ...   False     English\n",
              "\n",
              "[5 rows x 11 columns]"
            ]
          },
          "metadata": {
            "tags": []
          },
          "execution_count": 7
        }
      ]
    },
    {
      "cell_type": "code",
      "metadata": {
        "id": "sW5_7nKKCjl5"
      },
      "source": [
        "sns.set(style='dark',font='serif')"
      ],
      "execution_count": 18,
      "outputs": []
    },
    {
      "cell_type": "markdown",
      "metadata": {
        "id": "wy-hFQmMF0Ar"
      },
      "source": [
        "# Relation Between stream time and Views gained"
      ]
    },
    {
      "cell_type": "code",
      "metadata": {
        "colab": {
          "base_uri": "https://localhost:8080/",
          "height": 399
        },
        "id": "LY8C1lWmCzf8",
        "outputId": "882f2374-ab27-4531-f77d-0cce5c7888b6"
      },
      "source": [
        "sns.lmplot(x= 'Stream time(minutes)', y='Views gained', data=twitch_data)"
      ],
      "execution_count": 29,
      "outputs": [
        {
          "output_type": "execute_result",
          "data": {
            "text/plain": [
              "<seaborn.axisgrid.FacetGrid at 0x7f18051b2940>"
            ]
          },
          "metadata": {
            "tags": []
          },
          "execution_count": 29
        },
        {
          "output_type": "display_data",
          "data": {
            "image/png": "[encoded data removed]",
            "text/plain": [
              "<Figure size 360x360 with 1 Axes>"
            ]
          },
          "metadata": {
            "tags": []
          }
        }
      ]
    },
    {
      "cell_type": "code",
      "metadata": {
        "colab": {
          "base_uri": "https://localhost:8080/",
          "height": 313
        },
        "id": "j80YvhGvFFJZ",
        "outputId": "bee5a5f5-8944-461b-db1d-b2002359cda3"
      },
      "source": [
        "sns.barplot(x='Stream time(minutes)', y='Views gained', data=twitch_data)\r\n",
        "print()"
      ],
      "execution_count": 33,
      "outputs": [
        {
          "output_type": "stream",
          "text": [
            "\n"
          ],
          "name": "stdout"
        },
        {
          "output_type": "display_data",
          "data": {
            "image/png": "[encoded data removed]",
            "text/plain": [
              "<Figure size 432x288 with 1 Axes>"
            ]
          },
          "metadata": {
            "tags": []
          }
        }
      ]
    },
    {
      "cell_type": "markdown",
      "metadata": {
        "id": "4pbzx__vGH10"
      },
      "source": [
        "# Conclusions\r\n",
        "- Their is no direct relation between streaming tiem and viewers gained\r\n",
        "- view count may be directly related to how interesting your content it"
      ]
    }
  ]
}